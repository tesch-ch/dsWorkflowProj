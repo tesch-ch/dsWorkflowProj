{
 "cells": [
  {
   "cell_type": "code",
   "execution_count": 1,
   "id": "ee2ff654",
   "metadata": {},
   "outputs": [],
   "source": [
    "# Standard library imports\n",
    "import time\n",
    "import sys\n",
    "\n",
    "# Third-party imports\n",
    "import torch # TODO: might remove, transformers sometimes throws warnings?\n",
    "from transformers import (AutoTokenizer,\n",
    "                          AutoModelForSequenceClassification,\n",
    "                          AutoModelForTokenClassification,\n",
    "                          pipeline)\n",
    "from pymongo import MongoClient\n",
    "\n",
    "# Local imports\n",
    "import misc"
   ]
  },
  {
   "cell_type": "code",
   "execution_count": 2,
   "id": "e463ab42",
   "metadata": {},
   "outputs": [
    {
     "name": "stdout",
     "output_type": "stream",
     "text": [
      "Connect to MongoDB.\n"
     ]
    }
   ],
   "source": [
    "# Connect to MongoDB\n",
    "# MONGODB_HOST = 'localhost'\n",
    "MONGODB_HOST = 'mongodb-service' # must fit k8s service name\n",
    "MONGODB_PORT = 27017\n",
    "print(\"Connect to MongoDB.\")\n",
    "client = MongoClient(MONGODB_HOST, MONGODB_PORT)\n",
    "db = client['news']\n",
    "collection = db['articles']"
   ]
  },
  {
   "cell_type": "code",
   "execution_count": 55,
   "id": "e58953e6",
   "metadata": {},
   "outputs": [
    {
     "name": "stdout",
     "output_type": "stream",
     "text": [
      "Number of documents to process: 6558\n"
     ]
    }
   ],
   "source": [
    "# Count number of documents in collection where 'entities' field is missing\n",
    "# (i.e. where nlp has not been performed yet) and where the 'authors' field is\n",
    "# not empty (i.e. \"proper\" articles, not e.g. weather reports or landing pages)\n",
    "query = {'entities': {'$exists': False}, 'authors': {'$ne': []}}\n",
    "# query = {'authors': {'$ne': []},}\n",
    "count = collection.count_documents(query)\n",
    "print(f'Number of documents to process: {count}')\n",
    "\n",
    "# Exit if no documents to process\n",
    "if count == 0:\n",
    "    print(\"No documents to process. Exiting.\")\n",
    "    sys.exit(0)\n",
    "    \n",
    "# prev 9334"
   ]
  },
  {
   "cell_type": "code",
   "execution_count": 59,
   "id": "47e96757",
   "metadata": {},
   "outputs": [
    {
     "name": "stdout",
     "output_type": "stream",
     "text": [
      "2917 documents have been worked.\n"
     ]
    }
   ],
   "source": [
    "# Export part of the collection that has been worked\n",
    "\n",
    "\n",
    "query_nlp = {'entities': {'$exists': True}}\n",
    "count_nlp = collection.count_documents(query_nlp)\n",
    "print(f'{count_nlp} documents have been worked.')\n",
    "\n",
    "collection_list = list(collection.find(query_nlp))\n",
    "\n",
    "import pickle\n",
    "with open(\"nlp_collection_list.pkl\", \"wb\") as pickle_file:\n",
    "    pickle.dump(collection_list, pickle_file)"
   ]
  },
  {
   "cell_type": "code",
   "execution_count": 21,
   "id": "642e9df8",
   "metadata": {},
   "outputs": [
    {
     "name": "stdout",
     "output_type": "stream",
     "text": [
      "Init classifier model.\n"
     ]
    }
   ],
   "source": [
    "# Init classifier model for inference on article text\n",
    "# https://huggingface.co/Softechlb/articles_classification\n",
    "CLF_MODEL_NAME = \"Softechlb/articles_classification\"\n",
    "print(\"Init classifier model.\")\n",
    "clf_tokenizer = AutoTokenizer.from_pretrained(CLF_MODEL_NAME)\n",
    "clf_model = AutoModelForSequenceClassification.from_pretrained(CLF_MODEL_NAME)"
   ]
  },
  {
   "cell_type": "code",
   "execution_count": 22,
   "id": "54e84285",
   "metadata": {},
   "outputs": [
    {
     "name": "stdout",
     "output_type": "stream",
     "text": [
      "Init NER model.\n"
     ]
    }
   ],
   "source": [
    "# Init NER model for inference on article title\n",
    "# https://huggingface.co/dslim/bert-base-NER\n",
    "NER_MODEL_NAME = \"dslim/bert-base-NER\"\n",
    "print(\"Init NER model.\")\n",
    "ner_tokenizer = AutoTokenizer.from_pretrained(NER_MODEL_NAME)\n",
    "ner_model = AutoModelForTokenClassification.from_pretrained(NER_MODEL_NAME)\n",
    "ner_pipeline = pipeline(\"ner\", model=ner_model, tokenizer=ner_tokenizer,\n",
    "                        aggregation_strategy=\"simple\")"
   ]
  },
  {
   "cell_type": "code",
   "execution_count": 24,
   "id": "6e5e4e4c",
   "metadata": {},
   "outputs": [
    {
     "data": {
      "text/plain": [
       "{'_id': ObjectId('64ebd5efb36280b9aa11e6e3'),\n",
       " 'source': 'bbc',\n",
       " 'url': 'https://www.bbc.com/future/article/20230825-the-mystery-of-why-some-people-develop-als',\n",
       " 'title': 'The mystery of why some people develop ALS',\n",
       " 'authors': ['Sarah Pitt'],\n",
       " 'top_image': 'https://ychef.files.bbci.co.uk/live/624x351/p0g8x9qf.jpg',\n",
       " 'text': 'Depending on the type of ALS, \"the extent that disease can be explained by genetic factors is only about 8% to 60%,\" explains Eva Feldman, a professor of neurology at the University of Michigan.\\n\\nHowever, there\\'s also emerging evidence that repeated and prolonged exposure to potential triggers in the external environment might increase the risk of someone developing ALS, particularly the sporadic form. This led Feldman and her colleagues to investigate.\\n\\n\"We suspected the presence of what we term the ALS \\'exposome\\', which is the sum of toxic environmental exposures that increase risk,\" says Feldman. The team have found that prolonged exposure to organic chemical pollutants, metals, pesticides, particulate matter in dust from construction work and poor air quality could contribute to increasing a person\\'s ALS risk.\\n\\nNeil Thakur, chief mission officer of the ALS Association, says there is not a complete cause and effect for ALS. \"It is always a combination of factors,\" he says. \"Even if you have a risk factor or the genetic profile, it is not 100% sure you will get ALS.\"\\n\\nBut there is some evidence that exposure to particulates from diesel fuel, aviation fuel, particulates from burn pits, pesticides and aerosols may increase someone\\'s risk of developing ALS, he adds. Military personnel, for example, are highly exposed to these and seem to have an increased chance of contracting the disease, he says.\\n\\nThere\\'s also evidence that having lead in your drinking water, smoking and contact sports might trigger ALS. Still, there remains a lot of uncertainty. Studies assessing the effect of alcohol intake and cigarette smoking over a lifetime before an ALS diagnosis suggest being a teetotal non-smoker does not necessarily protect you. (These factors do reduce a person\\'s risk of developing many other conditions, of course – so there are plenty of other reasons to limit your drinking and smoking.)\\n\\nOne of the challenges that scientists and clinicians investigating the causes of ALS (and MND overall) face is that they are, thankfully, rare diseases. Within the small number of patients, not everyone is willing or able to take part in research studies. And there are many differences in genetics and lifestyle that could be influencing the results. Even if a genetic change is found in 4% of cases, for example, there might not be enough people in that group to see a clear difference between those who have been exposed to a specific chemical pollutant and those who have not.\\n\\n\"It takes a long time to fully recruit enough people onto an ALS clinical trial, because the disease progresses so rapidly and people are only eligible early in the disease,\" says Thakur. \"If you do have ALS in your family and you have an ALS gene, you can explore whether you could participate in trials, which would help you and others.\"',\n",
       " 'timestamp': 1693177327,\n",
       " 'category': 'health',\n",
       " 'category_verbose': {'business': 0.0025101653300225735,\n",
       "  'entertainment': 0.0009574051364324987,\n",
       "  'health': 0.9077606797218323,\n",
       "  'news': 0.08217039704322815,\n",
       "  'politics': 0.0034172546584159136,\n",
       "  'sport': 0.003184074303135276},\n",
       " 'entities': [],\n",
       " 'entities_verbose': [{'entity_group': 'MISC',\n",
       "   'score': 0.787826657295227,\n",
       "   'word': 'ALS',\n",
       "   'start': 39,\n",
       "   'end': 42}]}"
      ]
     },
     "execution_count": 24,
     "metadata": {},
     "output_type": "execute_result"
    }
   ],
   "source": [
    "col = collection.find(query)\n",
    "t_col = col[0]\n",
    "t_col"
   ]
  },
  {
   "cell_type": "code",
   "execution_count": 25,
   "id": "3be5b216",
   "metadata": {},
   "outputs": [],
   "source": [
    "t_text = t_col['text']"
   ]
  },
  {
   "cell_type": "code",
   "execution_count": 26,
   "id": "cc08cafa",
   "metadata": {
    "scrolled": true
   },
   "outputs": [],
   "source": [
    "(entities, ef) = misc.perform_ner(t_text, ner_pipeline)"
   ]
  },
  {
   "cell_type": "code",
   "execution_count": 27,
   "id": "77da702f",
   "metadata": {},
   "outputs": [
    {
     "data": {
      "text/plain": [
       "(0.983871579170227, float)"
      ]
     },
     "execution_count": 27,
     "metadata": {},
     "output_type": "execute_result"
    }
   ],
   "source": [
    "ef[0]['score'], type(ef[0]['score'])"
   ]
  },
  {
   "cell_type": "code",
   "execution_count": 28,
   "id": "880e09c9",
   "metadata": {},
   "outputs": [
    {
     "data": {
      "text/plain": [
       "('health',\n",
       " {'business': 0.0025101653300225735,\n",
       "  'entertainment': 0.0009574051364324987,\n",
       "  'health': 0.9077606797218323,\n",
       "  'news': 0.08217039704322815,\n",
       "  'politics': 0.0034172546584159136,\n",
       "  'sport': 0.003184074303135276},\n",
       " float)"
      ]
     },
     "execution_count": 28,
     "metadata": {},
     "output_type": "execute_result"
    }
   ],
   "source": [
    "tlabel, tdict = misc.perform_clf(t_text, clf_tokenizer, clf_model)\n",
    "tlabel, tdict, type(tdict['health'])"
   ]
  },
  {
   "cell_type": "code",
   "execution_count": 16,
   "id": "7b117a7c",
   "metadata": {},
   "outputs": [
    {
     "data": {
      "text/plain": [
       "\"{'business': 0.0025101653300225735, 'entertainment': 0.0009574051364324987, 'health': 0.9077606797218323, 'news': 0.08217039704322815, 'politics': 0.0034172546584159136, 'sport': 0.003184074303135276}\""
      ]
     },
     "execution_count": 16,
     "metadata": {},
     "output_type": "execute_result"
    }
   ],
   "source": [
    "str(tdict)"
   ]
  },
  {
   "cell_type": "code",
   "execution_count": null,
   "id": "9f0ab44a",
   "metadata": {},
   "outputs": [],
   "source": [
    "# Iterate over documents in collection\n",
    "progress = misc.ProgressLog(count)\n",
    "error_count = 0\n",
    "print(\"Start processing documents.\")\n",
    "start_time = time.time()\n",
    "i = 0\n",
    "print(\"before loop\")\n",
    "for document in collection.find(query):\n",
    "    print(i, document['title'])\n",
    "    if i > 2:\n",
    "        break\n",
    "#     try:\n",
    "    # Perform NER on article title\n",
    "    print('perform ner')\n",
    "    (entities, entities_all) = misc.perform_ner(document['title'], ner_pipeline)\n",
    "\n",
    "    # Perform classification on article text\n",
    "    print('perform clf')\n",
    "    (label, labels_all) = misc.perform_clf(document['text'], clf_tokenizer, clf_model)\n",
    "\n",
    "    # Update document in collection\n",
    "    document['entities'] = entities\n",
    "    document['entities_verbose'] = entities_all\n",
    "    document['category'] = label\n",
    "    document['category_verbose'] = labels_all\n",
    "    collection.update_one({'_id': document['_id']}, {'$set': document})\n",
    "\n",
    "#     except Exception as e:\n",
    "#         error_count += 1\n",
    "#         print(f\"\\nError no. {error_count} while \"\n",
    "#               f\"processing document {document['_id']}:\\n{e}\\n\\n\")\n",
    "\n",
    "    # Print progress\n",
    "    progress.increase(suffix=f\"{document['_id']}: {document['title']}\")\n",
    "\n",
    "duration = time.time() - start_time\n",
    "print(f\"\\n\\nProcessing {count} documents took {duration / 60:.0f} min.\\n\"\n",
    "      f\"Average time per document: {duration / count:.2f} s.\")\n",
    "\n",
    "# Close connection to mongo db\n",
    "# client.close()"
   ]
  }
 ],
 "metadata": {
  "kernelspec": {
   "display_name": "Python 3",
   "language": "python",
   "name": "python3"
  },
  "language_info": {
   "codemirror_mode": {
    "name": "ipython",
    "version": 3
   },
   "file_extension": ".py",
   "mimetype": "text/x-python",
   "name": "python",
   "nbconvert_exporter": "python",
   "pygments_lexer": "ipython3",
   "version": "3.6.9"
  }
 },
 "nbformat": 4,
 "nbformat_minor": 5
}
